{
 "cells": [
  {
   "cell_type": "markdown",
   "metadata": {},
   "source": [
    "The Stroop Effect \n",
    "\n",
    "By Nasim Khadem\n",
    "\n",
    "nasim_khadem@yahoo.com\n",
    "\n",
    "<h1> Please give me feedback also on my code</h1>"
   ]
  },
  {
   "cell_type": "markdown",
   "metadata": {},
   "source": [
    "### Analyzing the Stroop Effect\n",
    "Perform the analysis in the space below. Remember to follow [the instructions](https://docs.google.com/document/d/1-OkpZLjG_kX9J6LIQ5IltsqMzVWjh36QpnP2RYpVdPU/pub?embedded=True) and review the [project rubric](https://review.udacity.com/#!/rubrics/71/view) before submitting. Once you've completed the analysis and write up, download this file as a PDF or HTML file and submit in the next section.\n",
    "\n",
    "\n",
    "(1) What is the independent variable? What is the dependent variable?"
   ]
  },
  {
   "cell_type": "markdown",
   "metadata": {},
   "source": [
    "<font color='#006699'>\n",
    "\n",
    "The indepenedt variable is the congruent words and incongruent words. The depenent variable is the time that each indiviual take to say the set of words.\n",
    "</font>"
   ]
  },
  {
   "cell_type": "markdown",
   "metadata": {},
   "source": [
    "(2) What is an appropriate set of hypotheses for this task? What kind of statistical test do you expect to perform? Justify your choices."
   ]
  },
  {
   "cell_type": "markdown",
   "metadata": {},
   "source": [
    "<font color='#006699'>\n",
    "\n",
    "The appropriate $ H_0 $ and $ H_1$ are denoted :\n",
    "$$ H_0 : \\mu_{Congruent}=\\mu_{Incongruent} $$\n",
    "$$ H_1 : \\mu_{Congruent}<\\mu_{Incongruent}$$\n",
    "\n",
    "This means that null hypotheses does not take the stroop effect into account. That means the time it takes to name the ink colors in equally-sized lists is the same for both congurent and inconruent condition. \n",
    "However in the alternative hypothesis the congruent words condition, the words being displayed are color words whose names match the colors in which they are printed will take less time to read for individuals rather than inconqurennt condition.\n",
    "\n",
    "Since the test is taken by the same person in congurent and incongurent mode the congurent and incongurent variable are dependent. Therefore a paired one sided t- test would be recommended. it should be one sided cause we have only the  $<$ sign.  \"This means that given p and t values from a two-tailed test, you would reject the null hypothesis of a greater-than test when p/2 < alpha and t > 0, and of a less-than test when p/2 < alpha and t < 0.\"(5)\n",
    "\n",
    "</font>"
   ]
  },
  {
   "cell_type": "markdown",
   "metadata": {},
   "source": [
    "(3) Report some descriptive statistics regarding this dataset. Include at least one measure of central tendency and at least one measure of variability. The name of the data file is 'stroopdata.csv'."
   ]
  },
  {
   "cell_type": "code",
   "execution_count": 1,
   "metadata": {
    "collapsed": false
   },
   "outputs": [
    {
     "data": {
      "text/html": [
       "<div>\n",
       "<table border=\"1\" class=\"dataframe\">\n",
       "  <thead>\n",
       "    <tr style=\"text-align: right;\">\n",
       "      <th></th>\n",
       "      <th>Congruent</th>\n",
       "      <th>Incongruent</th>\n",
       "    </tr>\n",
       "  </thead>\n",
       "  <tbody>\n",
       "    <tr>\n",
       "      <th>count</th>\n",
       "      <td>24.000000</td>\n",
       "      <td>24.000000</td>\n",
       "    </tr>\n",
       "    <tr>\n",
       "      <th>mean</th>\n",
       "      <td>14.051125</td>\n",
       "      <td>22.015917</td>\n",
       "    </tr>\n",
       "    <tr>\n",
       "      <th>std</th>\n",
       "      <td>3.559358</td>\n",
       "      <td>4.797057</td>\n",
       "    </tr>\n",
       "    <tr>\n",
       "      <th>min</th>\n",
       "      <td>8.630000</td>\n",
       "      <td>15.687000</td>\n",
       "    </tr>\n",
       "    <tr>\n",
       "      <th>25%</th>\n",
       "      <td>11.895250</td>\n",
       "      <td>18.716750</td>\n",
       "    </tr>\n",
       "    <tr>\n",
       "      <th>50%</th>\n",
       "      <td>14.356500</td>\n",
       "      <td>21.017500</td>\n",
       "    </tr>\n",
       "    <tr>\n",
       "      <th>75%</th>\n",
       "      <td>16.200750</td>\n",
       "      <td>24.051500</td>\n",
       "    </tr>\n",
       "    <tr>\n",
       "      <th>max</th>\n",
       "      <td>22.328000</td>\n",
       "      <td>35.255000</td>\n",
       "    </tr>\n",
       "  </tbody>\n",
       "</table>\n",
       "</div>"
      ],
      "text/plain": [
       "       Congruent  Incongruent\n",
       "count  24.000000    24.000000\n",
       "mean   14.051125    22.015917\n",
       "std     3.559358     4.797057\n",
       "min     8.630000    15.687000\n",
       "25%    11.895250    18.716750\n",
       "50%    14.356500    21.017500\n",
       "75%    16.200750    24.051500\n",
       "max    22.328000    35.255000"
      ]
     },
     "execution_count": 1,
     "metadata": {},
     "output_type": "execute_result"
    }
   ],
   "source": [
    "# Perform the analysis here\n",
    "import numpy as np\n",
    "import pandas as pd\n",
    "\n",
    "data=pd.read_csv('stroopdata.csv')\n",
    "data.describe()\n"
   ]
  },
  {
   "cell_type": "markdown",
   "metadata": {},
   "source": [
    "<font color='#006699'>\n",
    "Using the describe method we see the mean and the std (pandas uses bessel method that is why the std might differ from the one calculate using numpy.std ) We also see Q1 as shown with 25% , Q2 or median shown as 50% and the Q3 as shown by 75%. \n",
    "</font>\n"
   ]
  },
  {
   "cell_type": "markdown",
   "metadata": {},
   "source": [
    "(4) Provide one or two visualizations that show the distribution of the sample data. Write one or two sentences noting what you observe about the plot or plots."
   ]
  },
  {
   "cell_type": "code",
   "execution_count": 74,
   "metadata": {
    "collapsed": false
   },
   "outputs": [
    {
     "data": {
      "text/plain": [
       "<matplotlib.figure.Figure at 0x115258438>"
      ]
     },
     "metadata": {},
     "output_type": "display_data"
    },
    {
     "data": {
      "text/plain": [
       "<matplotlib.figure.Figure at 0x11397c128>"
      ]
     },
     "metadata": {},
     "output_type": "display_data"
    },
    {
     "data": {
      "image/png": "[encoded data removed]",
      "text/plain": [
       "<matplotlib.figure.Figure at 0x11393f4a8>"
      ]
     },
     "metadata": {},
     "output_type": "display_data"
    },
    {
     "data": {
      "text/plain": [
       "<matplotlib.figure.Figure at 0x1134e74a8>"
      ]
     },
     "metadata": {},
     "output_type": "display_data"
    },
    {
     "data": {
      "image/png": "[encoded data removed]",
      "text/plain": [
       "<matplotlib.figure.Figure at 0x115453f60>"
      ]
     },
     "metadata": {},
     "output_type": "display_data"
    },
    {
     "data": {
      "text/plain": [
       "<matplotlib.figure.Figure at 0x1139e9a20>"
      ]
     },
     "metadata": {},
     "output_type": "display_data"
    },
    {
     "data": {
      "image/png": "[encoded data removed]",
      "text/plain": [
       "<matplotlib.figure.Figure at 0x1135a69e8>"
      ]
     },
     "metadata": {},
     "output_type": "display_data"
    },
    {
     "data": {
      "image/png": "[encoded data removed]",
      "text/plain": [
       "<matplotlib.figure.Figure at 0x113562a58>"
      ]
     },
     "metadata": {},
     "output_type": "display_data"
    }
   ],
   "source": [
    "# Build the visualizations here\n",
    "import matplotlib.pyplot as plt\n",
    "\n",
    "plt.figure(); \n",
    "\n",
    "ax=data.plot(kind='bar',title='Plot 1:Times for Stroop Task ')\n",
    "\n",
    "ax.set(xlabel=\"ID\", ylabel=\"Time in seconds\")\n",
    "plt.show()\n",
    "\n",
    "plt.figure()\n",
    "ax=data.plot.hist(title='Plot 2:Histogram of Stroop Task ')\n",
    "ax.set_xlabel(\"Time\")\n",
    "plt.show()\n",
    "\n",
    "plt.figure()\n",
    "ax=data.plot.hist(alpha=0.5,title='Plot 3:Histogram of Stroop Task With shown overlay')\n",
    "ax.set_xlabel(\"Time\")\n",
    "plt.show()\n",
    "\n",
    "plt.figure()\n",
    "ax=data.mean().plot('bar',title='Plot 4 : Difference in Mean')\n",
    "ax.set_ylabel(\"Time\")\n",
    "plt.show()"
   ]
  },
  {
   "cell_type": "markdown",
   "metadata": {},
   "source": [
    "<font color='#006699'>\n",
    "\n",
    "\n",
    "In the plot1 can be seen that for each individual the congurent and inconfurent states time has been shown. It shows that the congurent takes less time than incongurent. \n",
    "In the plot 2 which is the histogram of the data we can see that the distribution is shifted. Meaning again that the mean of the incongruent is larger than congruent.\n",
    "In plot 3 we can see that the two distribution have an overlay. \n",
    "In plot 4 is shown the mean of Congruent is less than Incongruent.\n",
    "<\\font>"
   ]
  },
  {
   "cell_type": "markdown",
   "metadata": {},
   "source": [
    "(5) Now, perform the statistical test and report the results. What is the confidence level and your critical statistic value? Do you reject the null hypothesis or fail to reject it? Come to a conclusion in terms of the experiment task. Did the results match up with your expectations?"
   ]
  },
  {
   "cell_type": "code",
   "execution_count": 64,
   "metadata": {
    "collapsed": false
   },
   "outputs": [
    {
     "name": "stdout",
     "output_type": "stream",
     "text": [
      " t statistic : -8.020706944109957\n",
      " p Value: 4.103000585711178e-08\n",
      " critical statistic value with 23 degree of Freedom for alpha=0.05 : 1.7138715277470473\n"
     ]
    }
   ],
   "source": [
    "# Perform the statistical test here\n",
    "import scipy.stats as stats\n",
    "from scipy import stats\n",
    "\n",
    "\n",
    "Congruent = data['Congruent'].values.tolist()\n",
    "Incongruent = data['Incongruent'].values.tolist()\n",
    "\n",
    "\n",
    "# Perform ttest\n",
    "t_val,pval=stats.ttest_rel(Congruent,Incongruent)\n",
    "\n",
    "# calculate the critical statistic instead of looking it up from a table\n",
    "n=data.count()[1]\n",
    "alpha=0.05\n",
    "degree_of_freedom=n-1\n",
    "t_critical_value=(stats.t.ppf(1-alpha, degree_of_freedom))\n",
    "\n",
    "print(\" t statistic : %s\" % (t_val))\n",
    "print(\" p Value: %s\" % (pval))\n",
    "print(\" critical statistic value with 23 degree of Freedom for alpha=0.05 : %s\" % (t_critical_value))\n",
    "\n"
   ]
  },
  {
   "cell_type": "markdown",
   "metadata": {},
   "source": [
    "<font color='#006699'>\n",
    "\n",
    "\n",
    "I choose the $\\alpha$ to be 0.05 which yields a confidence interval of 95% for a one sided test. Our $p value /2<\\alpha $ therefore the null hypothesis can be rejected. The critical statistic value can be rounded up to 1.714 which will match the value from the t-table.\n",
    "The test matches my expectation as the plot were already showing that the $ \\mu_{Congruent}<\\mu_{Incongruent}$ \n",
    "\n",
    "\n",
    "</font>\n"
   ]
  },
  {
   "cell_type": "markdown",
   "metadata": {},
   "source": [
    "6.Optional: What do you think is responsible for the effects observed?\n",
    "    Can you think of an alternative or similar task that would result in a similar effect? \n",
    "    Some research about the problem will be helpful for thinking about these two questions!\n",
    "    "
   ]
  },
  {
   "cell_type": "markdown",
   "metadata": {},
   "source": [
    "<font color='#006699'>\n",
    "\n",
    "\n",
    "The stroop effect suggest that the brain can read faster than recognizing colors and that color reading is more time consuming than reading the word. (4)I also think that becuse the pair of word/color does not match it will take more concentration to say the color.\n",
    "Alternative of this test can be direction/words. for example going up with the cursor when it is written down. or there is a game in germany which is called kakerlaken salad or Cockroach salad. When the a diffrent vegtebales than the one in your card should be named if you had already the same vegtebale on the card deck.(7)\n",
    "</font>"
   ]
  },
  {
   "cell_type": "markdown",
   "metadata": {},
   "source": [
    "resources :\n",
    "\n",
    "1.https://docs.scipy.org/doc/scipy/reference/generated/scipy.stats.ttest_rel.html#scipy.stats.ttest_rel\n",
    "\n",
    "2.https://en.wikipedia.org/wiki/Student%27s_t-test#Dependent_t-test_for_paired_samples\n",
    "\n",
    "3.http://hamelg.blogspot.de/2015/11/python-for-data-analysis-part-24.html\n",
    "\n",
    "4.http://blog.minitab.com/blog/adventures-in-statistics-2/understanding-hypothesis-tests%3A-significance-levels-alpha-and-p-values-in-statistics\n",
    "\n",
    "5.https://en.wikipedia.org/wiki/Stroop_effect\n",
    "\n",
    "6.https://stackoverflow.com/questions/15984221/how-to-perform-two-sample-one-tailed-t-test-with-numpy-scipy\n",
    "\n",
    "7.https://boardgamegeek.com/boardgame/32341/cockroach-salad"
   ]
  },
  {
   "cell_type": "markdown",
   "metadata": {},
   "source": [
    "<h1>Thank you for your review </h1>\n"
   ]
  },
  {
   "cell_type": "code",
   "execution_count": null,
   "metadata": {
    "collapsed": true
   },
   "outputs": [],
   "source": []
  }
 ],
 "metadata": {
  "kernelspec": {
   "display_name": "Python 3",
   "language": "python",
   "name": "python3"
  },
  "language_info": {
   "codemirror_mode": {
    "name": "ipython",
    "version": 3
   },
   "file_extension": ".py",
   "mimetype": "text/x-python",
   "name": "python",
   "nbconvert_exporter": "python",
   "pygments_lexer": "ipython3",
   "version": "3.6.0"
  }
 },
 "nbformat": 4,
 "nbformat_minor": 2
}
